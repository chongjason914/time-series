{
 "cells": [
  {
   "cell_type": "markdown",
   "id": "fb04071a",
   "metadata": {},
   "source": [
    "# 0. Set working directory  "
   ]
  },
  {
   "cell_type": "code",
   "execution_count": 1,
   "id": "6b7c5892",
   "metadata": {},
   "outputs": [],
   "source": [
    "setwd(\"C:/Users/JChong/Downloads\")"
   ]
  },
  {
   "cell_type": "markdown",
   "id": "7554a29d",
   "metadata": {},
   "source": [
    "# 1. Load data and transform into time series object "
   ]
  },
  {
   "cell_type": "code",
   "execution_count": 2,
   "id": "bcfef8fd",
   "metadata": {
    "scrolled": false
   },
   "outputs": [
    {
     "data": {
      "text/html": [
       "<table>\n",
       "<thead><tr><th scope=col>V1</th></tr></thead>\n",
       "<tbody>\n",
       "\t<tr><td>0.9314654</td></tr>\n",
       "\t<tr><td>1.3201530</td></tr>\n",
       "\t<tr><td>2.1054025</td></tr>\n",
       "\t<tr><td>2.3904040</td></tr>\n",
       "\t<tr><td>5.2749129</td></tr>\n",
       "\t<tr><td>5.5462100</td></tr>\n",
       "</tbody>\n",
       "</table>\n"
      ],
      "text/latex": [
       "\\begin{tabular}{r|l}\n",
       " V1\\\\\n",
       "\\hline\n",
       "\t 0.9314654\\\\\n",
       "\t 1.3201530\\\\\n",
       "\t 2.1054025\\\\\n",
       "\t 2.3904040\\\\\n",
       "\t 5.2749129\\\\\n",
       "\t 5.5462100\\\\\n",
       "\\end{tabular}\n"
      ],
      "text/markdown": [
       "\n",
       "| V1 |\n",
       "|---|\n",
       "| 0.9314654 |\n",
       "| 1.3201530 |\n",
       "| 2.1054025 |\n",
       "| 2.3904040 |\n",
       "| 5.2749129 |\n",
       "| 5.5462100 |\n",
       "\n"
      ],
      "text/plain": [
       "  V1       \n",
       "1 0.9314654\n",
       "2 1.3201530\n",
       "3 2.1054025\n",
       "4 2.3904040\n",
       "5 5.2749129\n",
       "6 5.5462100"
      ]
     },
     "metadata": {},
     "output_type": "display_data"
    },
    {
     "name": "stdout",
     "output_type": "stream",
     "text": [
      "'data.frame':\t365 obs. of  1 variable:\n",
      " $ V1: num  0.931 1.32 2.105 2.39 5.275 ...\n"
     ]
    }
   ],
   "source": [
    "# Read and view data \n",
    "testing.stationarity = read.table(\"testing.stationarity.txt\")\n",
    "head(testing.stationarity)\n",
    "str(testing.stationarity)"
   ]
  },
  {
   "cell_type": "code",
   "execution_count": 3,
   "id": "7b1784a7",
   "metadata": {},
   "outputs": [
    {
     "data": {
      "text/html": [
       "<ol class=list-inline>\n",
       "\t<li>0.931465371934621</li>\n",
       "\t<li>1.32015295860794</li>\n",
       "\t<li>2.1054024824026</li>\n",
       "\t<li>2.39040395897932</li>\n",
       "\t<li>5.27491285043068</li>\n",
       "\t<li>5.54620996689538</li>\n",
       "</ol>\n"
      ],
      "text/latex": [
       "\\begin{enumerate*}\n",
       "\\item 0.931465371934621\n",
       "\\item 1.32015295860794\n",
       "\\item 2.1054024824026\n",
       "\\item 2.39040395897932\n",
       "\\item 5.27491285043068\n",
       "\\item 5.54620996689538\n",
       "\\end{enumerate*}\n"
      ],
      "text/markdown": [
       "1. 0.931465371934621\n",
       "2. 1.32015295860794\n",
       "3. 2.1054024824026\n",
       "4. 2.39040395897932\n",
       "5. 5.27491285043068\n",
       "6. 5.54620996689538\n",
       "\n",
       "\n"
      ],
      "text/plain": [
       "[1] 0.9314654 1.3201530 2.1054025 2.3904040 5.2749129 5.5462100"
      ]
     },
     "metadata": {},
     "output_type": "display_data"
    },
    {
     "name": "stdout",
     "output_type": "stream",
     "text": [
      " Time-Series [1:365, 1] from 1 to 365: 0.931 1.32 2.105 2.39 5.275 ...\n",
      " - attr(*, \"dimnames\")=List of 2\n",
      "  ..$ : NULL\n",
      "  ..$ : chr \"V1\"\n"
     ]
    }
   ],
   "source": [
    "# Transform data into time series object \n",
    "testing.stationarity = ts(testing.stationarity)\n",
    "head(testing.stationarity)\n",
    "str(testing.stationarity)"
   ]
  },
  {
   "cell_type": "markdown",
   "id": "eae06007",
   "metadata": {},
   "source": [
    "# 2. Testing stationarity\n",
    "\n",
    "Stationarity is an important concept in time series analysis. Most time series models such as ARIMA, which we will explore later, assume that each data point is independent of one another. In other words, before we can fit a time series model to the data and use the model to make predictions, we need to first ensure that the time series is stationary. \n",
    "\n",
    "A time series is considered stationary if it satisifies the following 3 conditions: \n",
    "1. The expected value (mean) is constant over time \n",
    "2. The volatility (variance) of the time series is constant around its mean over time \n",
    "3. The covariance of the time series depends only on the time lag \n",
    "\n",
    "Visually speaking, there are two components to a time series that determine whether or not it is stationary: trend and seasonality.\n",
    "\n",
    "Trend is the long-term increase or decrease in the time series over a period of time. For example, the stock market such as the S&P500 index has seen an overall increasing trend over the last few decades.\n",
    "\n",
    "Seasonality, on the other hand, represents a recurring pattern that happens at a fixed and known frequency. For example, annual retail sales tend to have spikes in the month of December due to holiday shopping during the Christmas season.\n",
    "\n",
    "Before we look at how to remove trends and seasonality from a time series, let us first examine how to test for stationarity in a particular time series. Here, I have demonstrated 2 methods: \n",
    "1. Phillips-Perron Unit Root Test\n",
    "2. Plotting the sample ACF of the time series"
   ]
  },
  {
   "cell_type": "code",
   "execution_count": 4,
   "id": "da7b5089",
   "metadata": {},
   "outputs": [
    {
     "data": {
      "text/plain": [
       "\n",
       "\tPhillips-Perron Unit Root Test\n",
       "\n",
       "data:  testing.stationarity\n",
       "Dickey-Fuller = -1.9639, Truncation lag parameter = 5, p-value = 0.5922\n"
      ]
     },
     "metadata": {},
     "output_type": "display_data"
    },
    {
     "data": {
      "image/png": "[encoded data removed]",
      "text/plain": [
       "Plot with title \"Data: testing.stationarity\""
      ]
     },
     "metadata": {},
     "output_type": "display_data"
    }
   ],
   "source": [
    "# Plot sample ACF and perform unit root test on time series data \n",
    "acf(testing.stationarity, main=\"Data: testing.stationarity\", ylab=\"Sample ACF\")\n",
    "PP.test(testing.stationarity)"
   ]
  },
  {
   "cell_type": "markdown",
   "id": "e9c02fad",
   "metadata": {},
   "source": [
    "ACF decays slowly which indicates that the time series is not stationary. Furthermore, p-value from PP.test is greater than 0.05, therefore we do not reject the null hypothesis and conclude that the process needs to be differenced."
   ]
  },
  {
   "cell_type": "markdown",
   "id": "b5246d9f",
   "metadata": {},
   "source": [
    "# 3. Removing trend\n",
    "\n",
    "There are a lot of ways to remove trend from a time series. Here, I have 2 of the simplest methods:\n",
    "1. Differencing \n",
    "2. Least square trends removal \n",
    "\n",
    "Differencing simply means finding the difference between the data point and a previous data point of a given lag. Least square trends removal, on the other hand, involves fitting a linear model to the time series and subtracting the fitted values from the data points.  "
   ]
  },
  {
   "cell_type": "markdown",
   "id": "f98f4253",
   "metadata": {},
   "source": [
    "## 3.1 Differencing"
   ]
  },
  {
   "cell_type": "code",
   "execution_count": 5,
   "id": "f5ba3fd8",
   "metadata": {
    "scrolled": true
   },
   "outputs": [
    {
     "data": {
      "image/png": "[encoded data removed]",
      "text/plain": [
       "Plot with title \"\""
      ]
     },
     "metadata": {},
     "output_type": "display_data"
    }
   ],
   "source": [
    "# Difference data using lag=1 and differences=1\n",
    "Xt = diff(testing.stationarity, lag=1, differences=1)\n",
    "\n",
    "# Plot original data, differenced data, and their respective sample ACFs \n",
    "par(mfrow=c(2,2))\n",
    "ts.plot(testing.stationarity, main=\"Data: testing.stationarity\",\n",
    "        ylab=\"Value\")\n",
    "ts.plot(Xt, main=\"Differenced data\", ylab=\"Change in value\")\n",
    "acf(testing.stationarity, main=\"\", ylab=\"Sample ACF\")\n",
    "acf(Xt, main=\"\", ylab=\"Sample ACF\")\n",
    "par(mfrow=c(1,1))"
   ]
  },
  {
   "cell_type": "code",
   "execution_count": 6,
   "id": "9916606b",
   "metadata": {},
   "outputs": [
    {
     "data": {
      "text/plain": [
       "\n",
       "\tPhillips-Perron Unit Root Test\n",
       "\n",
       "data:  Xt\n",
       "Dickey-Fuller = -13.204, Truncation lag parameter = 5, p-value = 0.01\n"
      ]
     },
     "metadata": {},
     "output_type": "display_data"
    }
   ],
   "source": [
    "# Perform unit root test on differenced data \n",
    "PP.test(Xt)"
   ]
  },
  {
   "cell_type": "markdown",
   "id": "0d4cdc80",
   "metadata": {},
   "source": [
    "We have successfully removed trend from the time series. P-value in the differenced data suggests that we should reject the null hypothesis and conclude that the process does not need to be differenced again. "
   ]
  },
  {
   "cell_type": "markdown",
   "id": "d69b25fd",
   "metadata": {},
   "source": [
    "## 3.1.1 Choosing the number of times to difference data\n",
    "\n",
    "To determine the number of times to difference a time series, we can choose the one that gives us the lowest overall variance.  "
   ]
  },
  {
   "cell_type": "code",
   "execution_count": 7,
   "id": "8570bb65",
   "metadata": {},
   "outputs": [
    {
     "data": {
      "text/html": [
       "<table>\n",
       "<thead><tr><th scope=col>diff</th><th scope=col>var</th></tr></thead>\n",
       "<tbody>\n",
       "\t<tr><td>0         </td><td> 89.786497</td></tr>\n",
       "\t<tr><td>1         </td><td>  1.275450</td></tr>\n",
       "\t<tr><td>2         </td><td>  1.567230</td></tr>\n",
       "\t<tr><td>3         </td><td>  4.320507</td></tr>\n",
       "\t<tr><td>4         </td><td> 13.731510</td></tr>\n",
       "\t<tr><td>5         </td><td> 46.247357</td></tr>\n",
       "\t<tr><td>6         </td><td>160.897967</td></tr>\n",
       "\t<tr><td>7         </td><td>571.637791</td></tr>\n",
       "</tbody>\n",
       "</table>\n"
      ],
      "text/latex": [
       "\\begin{tabular}{r|ll}\n",
       " diff & var\\\\\n",
       "\\hline\n",
       "\t 0          &  89.786497\\\\\n",
       "\t 1          &   1.275450\\\\\n",
       "\t 2          &   1.567230\\\\\n",
       "\t 3          &   4.320507\\\\\n",
       "\t 4          &  13.731510\\\\\n",
       "\t 5          &  46.247357\\\\\n",
       "\t 6          & 160.897967\\\\\n",
       "\t 7          & 571.637791\\\\\n",
       "\\end{tabular}\n"
      ],
      "text/markdown": [
       "\n",
       "| diff | var |\n",
       "|---|---|\n",
       "| 0          |  89.786497 |\n",
       "| 1          |   1.275450 |\n",
       "| 2          |   1.567230 |\n",
       "| 3          |   4.320507 |\n",
       "| 4          |  13.731510 |\n",
       "| 5          |  46.247357 |\n",
       "| 6          | 160.897967 |\n",
       "| 7          | 571.637791 |\n",
       "\n"
      ],
      "text/plain": [
       "  diff var       \n",
       "1 0     89.786497\n",
       "2 1      1.275450\n",
       "3 2      1.567230\n",
       "4 3      4.320507\n",
       "5 4     13.731510\n",
       "6 5     46.247357\n",
       "7 6    160.897967\n",
       "8 7    571.637791"
      ]
     },
     "metadata": {},
     "output_type": "display_data"
    },
    {
     "data": {
      "image/png": "[encoded data removed]",
      "text/plain": [
       "plot without title"
      ]
     },
     "metadata": {},
     "output_type": "display_data"
    }
   ],
   "source": [
    "# Try difference values between 0-7 and store their respective variance as a data frame \n",
    "ts.var = var(testing.stationarity)\n",
    "for(i in 1:7) {\n",
    "  diff = diff(testing.stationarity, lag=1, differences = i)\n",
    "  ts.var[i+1] = var(diff)\n",
    "}\n",
    "ts.var.df = data.frame(diff=0:7, var=ts.var)\n",
    "ts.var.df\n",
    "\n",
    "# Plot variance against the number of times data is differenced \n",
    "plot(ts.var.df, type=\"l\", ylab=\"Variance\", xlab=\"d\")"
   ]
  },
  {
   "cell_type": "markdown",
   "id": "cab629d0",
   "metadata": {},
   "source": [
    "Variance is lowest when process is differenced only once, and increases subsequently. Therefore, we conclude that the data should not be differenced a second time. "
   ]
  },
  {
   "cell_type": "markdown",
   "id": "866a93d9",
   "metadata": {},
   "source": [
    "## 3.2 Least squares trend removal "
   ]
  },
  {
   "cell_type": "code",
   "execution_count": 8,
   "id": "7bb2d7b8",
   "metadata": {
    "scrolled": true
   },
   "outputs": [
    {
     "data": {
      "image/png": "[encoded data removed]",
      "text/plain": [
       "Plot with title \"Time series with trend\""
      ]
     },
     "metadata": {},
     "output_type": "display_data"
    }
   ],
   "source": [
    "# Generate time series data \n",
    "set.seed(123)\n",
    "n = 1000\n",
    "sim = arima.sim(list(ar=0.9), n)\n",
    "xt = 2000+cumsum(sim)\n",
    "\n",
    "# Plot generated time series \n",
    "ts.plot(xt, col=\"blue\", main=\"Time series with trend\", ylab=\"Data\")"
   ]
  },
  {
   "cell_type": "markdown",
   "id": "76cb67f4",
   "metadata": {},
   "source": [
    "We can see that the simulated time series has an overall increasing trend. To remove this trend, we will fit a linear model to the data and subtract the fitted values from the data points to obtain the residuals.\n",
    "\n",
    "If done properly, the residuals should have no more trend i.e. have a constant mean over time. "
   ]
  },
  {
   "cell_type": "code",
   "execution_count": 9,
   "id": "3d7f2e85",
   "metadata": {},
   "outputs": [
    {
     "data": {
      "image/png": "[encoded data removed]",
      "text/plain": [
       "Plot with title \"Regression example\""
      ]
     },
     "metadata": {},
     "output_type": "display_data"
    }
   ],
   "source": [
    "# Fit a linear model on time series, extract fitted values and residuals \n",
    "time = time(xt)\n",
    "fit = lm(xt ~ time)\n",
    "yt = fit$fitted.values\n",
    "zt = fit$residuals\n",
    "\n",
    "# Plot time series with superimposed linear model and residuals \n",
    "par(mfrow=c(2,1))\n",
    "ts.plot(xt, col=\"blue\", main=\"Regression example\", ylab=\"Data\")\n",
    "abline(fit, col=\"red\")\n",
    "plot(xt-yt, type=\"l\", col=\"green\", xlab=\"Time\", ylab=\"Residuals\")\n",
    "par(mfrow=c(1, 1))"
   ]
  },
  {
   "cell_type": "markdown",
   "id": "a0aa9f2c",
   "metadata": {},
   "source": [
    "# 4. Removing seasonality \n",
    "\n",
    "Similar to trends, there are multiple ways to remove seasonality. Here, I have shown 3 methods:\n",
    "1. Seasonal differencing \n",
    "2. Seasonal means \n",
    "3. Method of moving averages using built-in R function \n",
    "\n",
    "Seasonal differencing means to subtract each data point by a previous data point of a fixed lag. Seasonal means involves subtracting each data point by their respective group averages, for example, monthly averages. Lastly, method of moving averages involves calculating the trend of a time series by taking the moving average over the entire time series. "
   ]
  },
  {
   "cell_type": "markdown",
   "id": "204040f8",
   "metadata": {},
   "source": [
    "## 4.1 Introduction to the ldeaths dataset in R \n",
    "\n",
    "ldeaths represent monthly deaths from bronchitis, emphysema and asthma in the UK between the years 1974-1979, for both males and females. "
   ]
  },
  {
   "cell_type": "code",
   "execution_count": 10,
   "id": "48fdd6e8",
   "metadata": {},
   "outputs": [],
   "source": [
    "# View ldeaths dataset documentation \n",
    "# help(\"ldeaths\")"
   ]
  },
  {
   "cell_type": "code",
   "execution_count": 11,
   "id": "06b3601c",
   "metadata": {
    "scrolled": true
   },
   "outputs": [
    {
     "data": {
      "image/png": "[encoded data removed]",
      "text/plain": [
       "Plot with title \"Monthly deaths from lung diseases in the UK\""
      ]
     },
     "metadata": {},
     "output_type": "display_data"
    },
    {
     "data": {
      "image/png": "[encoded data removed]",
      "text/plain": [
       "Plot with title \"Sample ACF of ldeaths\""
      ]
     },
     "metadata": {},
     "output_type": "display_data"
    }
   ],
   "source": [
    "# Plot ldeaths \n",
    "plot(ldeaths, main=\"Monthly deaths from lung diseases in the UK\", ylab=\"Deaths\")\n",
    "points(ldeaths, pch=20)\n",
    "\n",
    "# Add red vertical line at the start of each year  \n",
    "abline(v=1974:1980, col=\"red\")\n",
    "\n",
    "# Plot sample ACF of ldeaths \n",
    "acf(ldeaths, main=\"Sample ACF of ldeaths\", ylab=\"Sample ACF\", lag.max=36)"
   ]
  },
  {
   "cell_type": "markdown",
   "id": "e666ce52",
   "metadata": {},
   "source": [
    "The chart appears to show a yearly seasonal effect. Although the highest point each year is not necessarily always in the same month, however, there is still a visible annual trend that is present in the data. "
   ]
  },
  {
   "cell_type": "markdown",
   "id": "7b2ced3d",
   "metadata": {},
   "source": [
    "## 4.2 Seasonal differencing "
   ]
  },
  {
   "cell_type": "code",
   "execution_count": 12,
   "id": "d55969e5",
   "metadata": {
    "scrolled": true
   },
   "outputs": [
    {
     "data": {
      "image/png": "[encoded data removed]",
      "text/plain": [
       "Plot with title \"Sample ACF of sdiff.ldeaths\""
      ]
     },
     "metadata": {},
     "output_type": "display_data"
    }
   ],
   "source": [
    "# Difference ldeaths using lag=12 i.e. January 1975 minus January 1974, February 1975 minus February 1974, and so on \n",
    "sdiff.ldeaths = diff(ldeaths, lag=12, differences=1)\n",
    "\n",
    "# Plot original data, differenced data, and their respective sample ACFs   \n",
    "par(mfrow=c(2,2))\n",
    "ts.plot(ldeaths, main=\"Data: ldeaths\", ylab=\"Number of deaths\")\n",
    "acf(ldeaths, main=\"Sample ACF of ldeaths\", ylab=\"Sample ACF\")\n",
    "ts.plot(sdiff.ldeaths, main=\"Data: sdiff.ldeaths\", ylab=\"Difference in number of deaths\")\n",
    "acf(sdiff.ldeaths, main=\"Sample ACF of sdiff.ldeaths\", ylab=\"Sample ACF\")\n",
    "par(mfrow=c(1,1))"
   ]
  },
  {
   "cell_type": "markdown",
   "id": "4df17e3e",
   "metadata": {},
   "source": [
    "## 4.3 Seasonal means "
   ]
  },
  {
   "cell_type": "code",
   "execution_count": 13,
   "id": "287f6be2",
   "metadata": {},
   "outputs": [
    {
     "data": {
      "text/html": [
       "<table>\n",
       "<thead><tr><th scope=col>year</th><th scope=col>month</th><th scope=col>value</th></tr></thead>\n",
       "<tbody>\n",
       "\t<tr><td>1974</td><td> 1  </td><td>3035</td></tr>\n",
       "\t<tr><td>1974</td><td> 2  </td><td>2552</td></tr>\n",
       "\t<tr><td>1974</td><td> 3  </td><td>2704</td></tr>\n",
       "\t<tr><td>1974</td><td> 4  </td><td>2554</td></tr>\n",
       "\t<tr><td>1974</td><td> 5  </td><td>2014</td></tr>\n",
       "\t<tr><td>1974</td><td> 6  </td><td>1655</td></tr>\n",
       "\t<tr><td>1974</td><td> 7  </td><td>1721</td></tr>\n",
       "\t<tr><td>1974</td><td> 8  </td><td>1524</td></tr>\n",
       "\t<tr><td>1974</td><td> 9  </td><td>1596</td></tr>\n",
       "\t<tr><td>1974</td><td>10  </td><td>2074</td></tr>\n",
       "\t<tr><td>1974</td><td>11  </td><td>2199</td></tr>\n",
       "\t<tr><td>1974</td><td>12  </td><td>2512</td></tr>\n",
       "</tbody>\n",
       "</table>\n"
      ],
      "text/latex": [
       "\\begin{tabular}{r|lll}\n",
       " year & month & value\\\\\n",
       "\\hline\n",
       "\t 1974 &  1   & 3035\\\\\n",
       "\t 1974 &  2   & 2552\\\\\n",
       "\t 1974 &  3   & 2704\\\\\n",
       "\t 1974 &  4   & 2554\\\\\n",
       "\t 1974 &  5   & 2014\\\\\n",
       "\t 1974 &  6   & 1655\\\\\n",
       "\t 1974 &  7   & 1721\\\\\n",
       "\t 1974 &  8   & 1524\\\\\n",
       "\t 1974 &  9   & 1596\\\\\n",
       "\t 1974 & 10   & 2074\\\\\n",
       "\t 1974 & 11   & 2199\\\\\n",
       "\t 1974 & 12   & 2512\\\\\n",
       "\\end{tabular}\n"
      ],
      "text/markdown": [
       "\n",
       "| year | month | value |\n",
       "|---|---|---|\n",
       "| 1974 |  1   | 3035 |\n",
       "| 1974 |  2   | 2552 |\n",
       "| 1974 |  3   | 2704 |\n",
       "| 1974 |  4   | 2554 |\n",
       "| 1974 |  5   | 2014 |\n",
       "| 1974 |  6   | 1655 |\n",
       "| 1974 |  7   | 1721 |\n",
       "| 1974 |  8   | 1524 |\n",
       "| 1974 |  9   | 1596 |\n",
       "| 1974 | 10   | 2074 |\n",
       "| 1974 | 11   | 2199 |\n",
       "| 1974 | 12   | 2512 |\n",
       "\n"
      ],
      "text/plain": [
       "   year month value\n",
       "1  1974  1    3035 \n",
       "2  1974  2    2552 \n",
       "3  1974  3    2704 \n",
       "4  1974  4    2554 \n",
       "5  1974  5    2014 \n",
       "6  1974  6    1655 \n",
       "7  1974  7    1721 \n",
       "8  1974  8    1524 \n",
       "9  1974  9    1596 \n",
       "10 1974 10    2074 \n",
       "11 1974 11    2199 \n",
       "12 1974 12    2512 "
      ]
     },
     "metadata": {},
     "output_type": "display_data"
    }
   ],
   "source": [
    "# Generate ldeaths as dataframe \n",
    "ldeaths.df = data.frame(year=rep(1974:1979, each=12),\n",
    "                        month=rep(1:12, 6),\n",
    "                        value=ldeaths)\n",
    "head(ldeaths.df, 12)"
   ]
  },
  {
   "cell_type": "code",
   "execution_count": 14,
   "id": "c0203a1b",
   "metadata": {},
   "outputs": [
    {
     "data": {
      "text/html": [
       "<table>\n",
       "<thead><tr><th scope=col>month</th><th scope=col>value</th></tr></thead>\n",
       "<tbody>\n",
       "\t<tr><td> 1      </td><td>2959.333</td></tr>\n",
       "\t<tr><td> 2      </td><td>2894.667</td></tr>\n",
       "\t<tr><td> 3      </td><td>2743.000</td></tr>\n",
       "\t<tr><td> 4      </td><td>2269.667</td></tr>\n",
       "\t<tr><td> 5      </td><td>1805.167</td></tr>\n",
       "\t<tr><td> 6      </td><td>1608.667</td></tr>\n",
       "\t<tr><td> 7      </td><td>1550.833</td></tr>\n",
       "\t<tr><td> 8      </td><td>1408.333</td></tr>\n",
       "\t<tr><td> 9      </td><td>1397.333</td></tr>\n",
       "\t<tr><td>10      </td><td>1690.000</td></tr>\n",
       "\t<tr><td>11      </td><td>1874.000</td></tr>\n",
       "\t<tr><td>12      </td><td>2478.500</td></tr>\n",
       "</tbody>\n",
       "</table>\n"
      ],
      "text/latex": [
       "\\begin{tabular}{r|ll}\n",
       " month & value\\\\\n",
       "\\hline\n",
       "\t  1       & 2959.333\\\\\n",
       "\t  2       & 2894.667\\\\\n",
       "\t  3       & 2743.000\\\\\n",
       "\t  4       & 2269.667\\\\\n",
       "\t  5       & 1805.167\\\\\n",
       "\t  6       & 1608.667\\\\\n",
       "\t  7       & 1550.833\\\\\n",
       "\t  8       & 1408.333\\\\\n",
       "\t  9       & 1397.333\\\\\n",
       "\t 10       & 1690.000\\\\\n",
       "\t 11       & 1874.000\\\\\n",
       "\t 12       & 2478.500\\\\\n",
       "\\end{tabular}\n"
      ],
      "text/markdown": [
       "\n",
       "| month | value |\n",
       "|---|---|\n",
       "|  1       | 2959.333 |\n",
       "|  2       | 2894.667 |\n",
       "|  3       | 2743.000 |\n",
       "|  4       | 2269.667 |\n",
       "|  5       | 1805.167 |\n",
       "|  6       | 1608.667 |\n",
       "|  7       | 1550.833 |\n",
       "|  8       | 1408.333 |\n",
       "|  9       | 1397.333 |\n",
       "| 10       | 1690.000 |\n",
       "| 11       | 1874.000 |\n",
       "| 12       | 2478.500 |\n",
       "\n"
      ],
      "text/plain": [
       "   month value   \n",
       "1   1    2959.333\n",
       "2   2    2894.667\n",
       "3   3    2743.000\n",
       "4   4    2269.667\n",
       "5   5    1805.167\n",
       "6   6    1608.667\n",
       "7   7    1550.833\n",
       "8   8    1408.333\n",
       "9   9    1397.333\n",
       "10 10    1690.000\n",
       "11 11    1874.000\n",
       "12 12    2478.500"
      ]
     },
     "metadata": {},
     "output_type": "display_data"
    }
   ],
   "source": [
    "# Monthly averages of ldeaths dataset \n",
    "xbars = aggregate(value ~ month, data = ldeaths.df, mean)\n",
    "xbars"
   ]
  },
  {
   "cell_type": "code",
   "execution_count": 15,
   "id": "5faefc47",
   "metadata": {},
   "outputs": [
    {
     "data": {
      "image/png": "[encoded data removed]",
      "text/plain": [
       "Plot with title \"Sample ACF of the series ldeaths less seasonal means\""
      ]
     },
     "metadata": {},
     "output_type": "display_data"
    }
   ],
   "source": [
    "# Subtract each month in ldeaths by their respective means\n",
    "yt = ldeaths - xbars$value\n",
    "\n",
    "# Plot ldeaths after subtracting seasonal means \n",
    "par(mfrow=c(2, 1))\n",
    "plot(yt, main=\"Monthly deaths from lung diseases in the UK\", ylab=\"Deaths\")\n",
    "points(yt, pch=20)\n",
    "acf(yt, main=\"Sample ACF of the series ldeaths less seasonal means\", ylab=\"Sample ACF\", lag.max=36)\n",
    "par(mfrow=c(1, 1))"
   ]
  },
  {
   "cell_type": "markdown",
   "id": "cb10fbfe",
   "metadata": {},
   "source": [
    "## 4.4 In-built function for method of moving averages "
   ]
  },
  {
   "cell_type": "code",
   "execution_count": 16,
   "id": "e0498332",
   "metadata": {},
   "outputs": [
    {
     "data": {
      "image/png": "[encoded data removed]",
      "text/plain": [
       "plot without title"
      ]
     },
     "metadata": {},
     "output_type": "display_data"
    }
   ],
   "source": [
    "# Decompose ldeaths into its trend, seasonal and random components \n",
    "plot(decompose(ldeaths))"
   ]
  },
  {
   "cell_type": "markdown",
   "id": "59569d97",
   "metadata": {},
   "source": [
    "Trend and random components do not have the first and last 6 months of data. "
   ]
  },
  {
   "cell_type": "code",
   "execution_count": 17,
   "id": "2694958e",
   "metadata": {},
   "outputs": [
    {
     "data": {
      "image/png": "[encoded data removed]",
      "text/plain": [
       "Plot with title \"Components of time series: ldeaths\""
      ]
     },
     "metadata": {},
     "output_type": "display_data"
    }
   ],
   "source": [
    "# Store trend, seasonal and random as individuals variables  \n",
    "decomp = decompose(ldeaths) \n",
    "trend = decomp$trend\n",
    "seasonal = decomp$seasonal\n",
    "random = decomp$random\n",
    "\n",
    "# Plot data, trend and seasonal + trend  \n",
    "ts.plot(ldeaths, ylab=\"\", main=\"Components of time series: ldeaths\", col=\"grey\")\n",
    "lines(trend, col=\"red\")\n",
    "lines(seasonal+trend, col=\"blue\")\n",
    "legend(\"topright\", legend=c(\"Data\", \"Trend\", \"Seasonal + trend\"), col=c(\"grey\", \"red\", \"blue\"), lty=1)"
   ]
  },
  {
   "cell_type": "markdown",
   "id": "be186f6b",
   "metadata": {},
   "source": [
    "# 5. Model fitting \n",
    "\n",
    "We can estimate and choose the most appropriate ARIMA model for a time series based on its ACF and partial ACF plots. "
   ]
  },
  {
   "cell_type": "markdown",
   "id": "aee89bb9",
   "metadata": {},
   "source": [
    "## 5.1 Choosing the right ARIMA model: Example 1"
   ]
  },
  {
   "cell_type": "code",
   "execution_count": 18,
   "id": "8686d253",
   "metadata": {},
   "outputs": [
    {
     "data": {
      "image/png": "[encoded data removed]",
      "text/plain": [
       "Plot with title \"\""
      ]
     },
     "metadata": {},
     "output_type": "display_data"
    }
   ],
   "source": [
    "# Read time series data \n",
    "data = read.csv(\"fittingmodelEg1.csv\", header=F)\n",
    "data = ts(data[, 1])\n",
    "\n",
    "# Plot data, ACF and partial ACF \n",
    "m = matrix(c(1, 1, 2, 3), 2, 2, byrow=TRUE)\n",
    "layout(m)\n",
    "ts.plot(data, ylab=\"\")\n",
    "acf(data,main=\"\")\n",
    "pacf(data,main=\"\")\n",
    "par(mfrow=c(1,1))"
   ]
  },
  {
   "cell_type": "markdown",
   "id": "7f42c207",
   "metadata": {},
   "source": [
    "There is no obvious trend in the time series and variability appears to be reasonably constant.\n",
    "\n",
    "ACF does not decrease slowly and therefore suggests that the process does not need to be differenced i.e. set d=0. ACF also drops suddenly inside the confidence interval after lag 3. Partial ACF, on the other hand, decays more gradually. \n",
    "\n",
    "So, we could try fitting a MA(3) model to this data, or equivalently, ARIMA(p=0, d=0, q=3). In practice, we would investigate multiple models before deciding on a final fit. "
   ]
  },
  {
   "cell_type": "markdown",
   "id": "3c5b9839",
   "metadata": {},
   "source": [
    "## 5.2 Choosing the right ARIMA model: Example 2"
   ]
  },
  {
   "cell_type": "code",
   "execution_count": 19,
   "id": "76e18eed",
   "metadata": {},
   "outputs": [
    {
     "data": {
      "image/png": "[encoded data removed]",
      "text/plain": [
       "Plot with title \"\""
      ]
     },
     "metadata": {},
     "output_type": "display_data"
    }
   ],
   "source": [
    "# Read time series data \n",
    "data2 = read.csv(\"fittingmodelEg2.csv\", header=F)\n",
    "data2 = ts(data2[, 1])\n",
    "\n",
    "# Plot data, ACF and partial ACF \n",
    "m = matrix(c(1, 1, 2, 3), 2, 2, byrow=TRUE)\n",
    "layout(m)\n",
    "ts.plot(data2, ylab=\"\")\n",
    "acf(data2,main=\"\")\n",
    "pacf(data2,main=\"\")\n",
    "par(mfrow=c(1,1))"
   ]
  },
  {
   "cell_type": "markdown",
   "id": "c2783975",
   "metadata": {},
   "source": [
    "Similar to example 1, there is no obvious trend in the data itself, and the variable also appears to be reasonably constant over time. \n",
    "\n",
    "ACF does not show a steadily decreasing trend and so the data appears to be stationary and we can set d=0. The partial ACF, on the other hand, drops suddenly inside the confidence interval after lag 2. \n",
    "\n",
    "Therefore, we could try fitting an AR(2) model to this data, or equivalently, ARIMA(p=2, d=0, q=0). "
   ]
  },
  {
   "cell_type": "markdown",
   "id": "7fb88be8",
   "metadata": {},
   "source": [
    "# 6. Testing the fit of a model\n",
    "\n",
    "Here, I have outlined 3 methods to test the fit of a time series model: \n",
    "1. Graphs of residuals \n",
    "2. Ljung-Box test \n",
    "3. Akaike Information Criterion (AIC)"
   ]
  },
  {
   "cell_type": "markdown",
   "id": "900a34c5",
   "metadata": {},
   "source": [
    "## 6.1 Graphs of residuals "
   ]
  },
  {
   "cell_type": "code",
   "execution_count": 20,
   "id": "5847ee0b",
   "metadata": {},
   "outputs": [
    {
     "data": {
      "image/png": "[encoded data removed]",
      "text/plain": [
       "Plot with title \"\""
      ]
     },
     "metadata": {},
     "output_type": "display_data"
    }
   ],
   "source": [
    "# Fit MA(3) model to data and extract residuals \n",
    "ma3 = arima(data, order=c(0, 0, 3))\n",
    "residuals = ma3$residuals\n",
    "\n",
    "# Plot residuals and ACF of residuals \n",
    "par(mfrow=c(2, 1))\n",
    "ts.plot(residuals, main=\"MA(3) residuals\", ylab=\"Residuals\", col=\"blue\")\n",
    "acf(residuals, main=\"\", ylab=\"ACF\")\n",
    "par(mfrow=c(1, 1))"
   ]
  },
  {
   "cell_type": "markdown",
   "id": "b5fec9fb",
   "metadata": {},
   "source": [
    "The mean and variance of the residuals are broadly constant over time. The ACF of the residuals are all small with no significant patterns, and so the residuals appear to be independent.\n",
    "\n",
    "We can conclude that the model is a good fit to the data. "
   ]
  },
  {
   "cell_type": "markdown",
   "id": "20c07b2b",
   "metadata": {},
   "source": [
    "## 6.2 Ljung-Box test "
   ]
  },
  {
   "cell_type": "code",
   "execution_count": 21,
   "id": "086dd00b",
   "metadata": {},
   "outputs": [
    {
     "data": {
      "text/plain": [
       "\n",
       "\tBox-Ljung test\n",
       "\n",
       "data:  residuals\n",
       "X-squared = 3.194, df = 2, p-value = 0.2025\n"
      ]
     },
     "metadata": {},
     "output_type": "display_data"
    }
   ],
   "source": [
    "Box.test(residuals, lag=5, type=\"Ljung\", fitdf=3)"
   ]
  },
  {
   "cell_type": "markdown",
   "id": "cbaaad5a",
   "metadata": {},
   "source": [
    "Since p-value = 0.2025 > 0.05, we do not reject the null hypothesis and conclude that the model is a good fit to the data. \n",
    "\n",
    "Our choice of lag in the Ljung-Box test, in this case lag=5. The greater the correlation coefficient, the more likely the test statistic will follow a chi-squared distribution at the expense of a lower power of the test. \n",
    "\n",
    "Lag needs to also be greater than fitdf where fitdf = p+q from ARIMA(p, d, q) and since this is an MA(3) model, we have fitdf=0+3=3.  "
   ]
  },
  {
   "cell_type": "markdown",
   "id": "e75153a6",
   "metadata": {},
   "source": [
    "## 6.3 Akaike Information Criterion (AIC) "
   ]
  },
  {
   "cell_type": "markdown",
   "id": "6f32ec22",
   "metadata": {},
   "source": [
    "AIC is a measure of the trade-off between the goodness of fit of a model and the number of parameters in the model.\n",
    "\n",
    "Although a model with many parameters might be a very good fit to the data, it will not necessarily be an accurate predictor of the future due to overfitting. Conversely, a model with too few parameters may not be sufficient to capture the significant patterns in the underlying data. \n",
    "\n",
    "Hence, a good model should strike a balance between these two effects and AIC helps us to objectively measure this.\n",
    "\n",
    "Before we investigate how AIC works, let's determine an appropriate model for the data below. "
   ]
  },
  {
   "cell_type": "code",
   "execution_count": 22,
   "id": "bba7ab07",
   "metadata": {},
   "outputs": [
    {
     "data": {
      "image/png": "[encoded data removed]",
      "text/plain": [
       "Plot with title \"\""
      ]
     },
     "metadata": {},
     "output_type": "display_data"
    }
   ],
   "source": [
    "# Read time series data \n",
    "data3 = read.csv(\"fittingmodelEg3.csv\", header=F)\n",
    "data3 = ts(data3[, 1])\n",
    "\n",
    "# Plot data without differencing and differenced data \n",
    "m = matrix(c(1, 1, 4, 4, 2, 3, 5, 6), 2, 4, byrow=TRUE)\n",
    "layout(m)\n",
    "ts.plot(data3, main=\"Data without differencing\", ylab=\"\")\n",
    "acf(data3, main=\"\", ylab=\"Sample ACF\")\n",
    "pacf(data3, main=\"\", ylab=\"Sample PACF\")\n",
    "d = diff(data3)\n",
    "ts.plot(d, main=\"Differenced data\", ylab=\"\")\n",
    "acf(d, main=\"\", ylab=\"Sample ACF\")\n",
    "pacf(d, main = \"\", ylab=\"Sample PACF\")\n",
    "par(mfrow=c(1, 1))"
   ]
  },
  {
   "cell_type": "markdown",
   "id": "b669db86",
   "metadata": {},
   "source": [
    "The left half of the display above indicates three plots relating to the original data. The data shows a clear downward trend and this is reflected in the sample ACF which is decaying slowly. This suggests that we need to difference the data, in order to remove its trend. \n",
    "\n",
    "The right half of the display relates to the differenced data, after differencing once. We can see that after differencing, we have removed the slow decay in the sample ACF.\n",
    "\n",
    "So far, we know that our ARIMA model should be of ARIMA(p, d=1, q). To help us determine the values for p and q, we will deploy AIC. "
   ]
  },
  {
   "cell_type": "code",
   "execution_count": 23,
   "id": "a92f767d",
   "metadata": {},
   "outputs": [
    {
     "data": {
      "text/html": [
       "<table>\n",
       "<thead><tr><th scope=col>p</th><th scope=col>q</th><th scope=col>AIC</th></tr></thead>\n",
       "<tbody>\n",
       "\t<tr><td>0       </td><td>0       </td><td>2823.290</td></tr>\n",
       "\t<tr><td>0       </td><td>1       </td><td>2332.354</td></tr>\n",
       "\t<tr><td>0       </td><td>2       </td><td>2069.906</td></tr>\n",
       "\t<tr><td>1       </td><td>0       </td><td>2451.320</td></tr>\n",
       "\t<tr><td>1       </td><td>1       </td><td>2188.086</td></tr>\n",
       "\t<tr><td>1       </td><td>2       </td><td>2060.051</td></tr>\n",
       "\t<tr><td>2       </td><td>0       </td><td>2369.651</td></tr>\n",
       "\t<tr><td>2       </td><td>1       </td><td>2177.172</td></tr>\n",
       "\t<tr><td>2       </td><td>2       </td><td>2053.419</td></tr>\n",
       "</tbody>\n",
       "</table>\n"
      ],
      "text/latex": [
       "\\begin{tabular}{r|lll}\n",
       " p & q & AIC\\\\\n",
       "\\hline\n",
       "\t 0        & 0        & 2823.290\\\\\n",
       "\t 0        & 1        & 2332.354\\\\\n",
       "\t 0        & 2        & 2069.906\\\\\n",
       "\t 1        & 0        & 2451.320\\\\\n",
       "\t 1        & 1        & 2188.086\\\\\n",
       "\t 1        & 2        & 2060.051\\\\\n",
       "\t 2        & 0        & 2369.651\\\\\n",
       "\t 2        & 1        & 2177.172\\\\\n",
       "\t 2        & 2        & 2053.419\\\\\n",
       "\\end{tabular}\n"
      ],
      "text/markdown": [
       "\n",
       "| p | q | AIC |\n",
       "|---|---|---|\n",
       "| 0        | 0        | 2823.290 |\n",
       "| 0        | 1        | 2332.354 |\n",
       "| 0        | 2        | 2069.906 |\n",
       "| 1        | 0        | 2451.320 |\n",
       "| 1        | 1        | 2188.086 |\n",
       "| 1        | 2        | 2060.051 |\n",
       "| 2        | 0        | 2369.651 |\n",
       "| 2        | 1        | 2177.172 |\n",
       "| 2        | 2        | 2053.419 |\n",
       "\n"
      ],
      "text/plain": [
       " p q AIC     \n",
       " 0 0 2823.290\n",
       " 0 1 2332.354\n",
       " 0 2 2069.906\n",
       " 1 0 2451.320\n",
       " 1 1 2188.086\n",
       " 1 2 2060.051\n",
       " 2 0 2369.651\n",
       " 2 1 2177.172\n",
       " 2 2 2053.419"
      ]
     },
     "metadata": {},
     "output_type": "display_data"
    }
   ],
   "source": [
    "# Try values 0-2 for both p and q, record their respective AIC and put them into a data sframe \n",
    "aic.result = numeric(3)\n",
    "for (p in 0:2) {\n",
    "  for (q in 0:2) {\n",
    "    aic = arima(d, order=c(p, 0, q))$aic\n",
    "    aic.result = rbind(aic.result, c(p, q, aic))\n",
    "  }\n",
    "}\n",
    "aic.result = aic.result[-1, ]\n",
    "colnames(aic.result) = c(\"p\", \"q\", \"AIC\")\n",
    "aic.result"
   ]
  },
  {
   "cell_type": "markdown",
   "id": "54dbd856",
   "metadata": {},
   "source": [
    "We can see that p=2 and q=2 yield the lowest AIC, hence we should fit an ARIMA(2, 1, 2) model to the data. "
   ]
  },
  {
   "cell_type": "markdown",
   "id": "fe4732d2",
   "metadata": {},
   "source": [
    "# 7. Forecasting using ARIMA model "
   ]
  },
  {
   "cell_type": "code",
   "execution_count": 24,
   "id": "51b1559b",
   "metadata": {
    "scrolled": true
   },
   "outputs": [
    {
     "data": {
      "text/plain": [
       "\n",
       "Call:\n",
       "arima(x = d, order = c(2, 0, 2))\n",
       "\n",
       "Coefficients:\n",
       "          ar1     ar2     ma1   ma2  intercept\n",
       "      -0.1357  0.1321  1.8756  1.00    -0.6316\n",
       "s.e.   0.0446  0.0449  0.0098  0.01     0.3188\n",
       "\n",
       "sigma^2 estimated as 3.416:  log likelihood = -1020.71,  aic = 2053.42"
      ]
     },
     "metadata": {},
     "output_type": "display_data"
    }
   ],
   "source": [
    "# Fit ARIMA(2, 0, 2) to differenced data, since data has already been differenced, we can set d=0 \n",
    "fit = arima(d, order=c(2, 0, 2))\n",
    "fit"
   ]
  },
  {
   "cell_type": "code",
   "execution_count": 25,
   "id": "7f432006",
   "metadata": {},
   "outputs": [
    {
     "data": {
      "image/png": "[encoded data removed]",
      "text/plain": [
       "Plot with title \"Past data and forecasts\""
      ]
     },
     "metadata": {},
     "output_type": "display_data"
    }
   ],
   "source": [
    "# Predict 100 steps ahead using ARIMA(2, 1, 2) model \n",
    "predictions = predict(fit, n.ahead=100)\n",
    "predictions = predictions$pred\n",
    "\n",
    "# Aggregate predictions with the final point of past data \n",
    "predictions.with.trend = tail(data3, 1) + cumsum(predictions)\n",
    "predictions.with.trend = ts(predictions.with.trend, start=501, frequency=1)\n",
    "\n",
    "# Plot past data and forecasts \n",
    "xlim = c(0, 600)\n",
    "ylim = c(floor(min(data3, predictions.with.trend)), ceiling(max(data3, predictions.with.trend)))\n",
    "ts.plot(data3, xlim=xlim, ylim=ylim, col=\"blue\", main=\"Past data and forecasts\", ylab=\"\")\n",
    "lines(predictions.with.trend, col=\"red\")"
   ]
  }
 ],
 "metadata": {
  "kernelspec": {
   "display_name": "R",
   "language": "R",
   "name": "ir"
  },
  "language_info": {
   "codemirror_mode": "r",
   "file_extension": ".r",
   "mimetype": "text/x-r-source",
   "name": "R",
   "pygments_lexer": "r",
   "version": "3.6.1"
  }
 },
 "nbformat": 4,
 "nbformat_minor": 5
}
